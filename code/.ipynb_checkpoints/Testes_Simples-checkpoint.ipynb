{
 "cells": [
  {
   "cell_type": "code",
   "execution_count": 1,
   "metadata": {
    "collapsed": false
   },
   "outputs": [],
   "source": [
    "import numpy as np\n",
    "from scipy.stats import norm\n",
    "from scipy.sparse import linalg, diags"
   ]
  },
  {
   "cell_type": "code",
   "execution_count": 2,
   "metadata": {
    "collapsed": false
   },
   "outputs": [
    {
     "name": "stdout",
     "output_type": "stream",
     "text": [
      "a [  2.   3.   4.   5.   6.   7.   8.   9.  10.]\n",
      "b [1 2 3]\n",
      "(3L,)\n",
      "[1 2 3]\n"
     ]
    }
   ],
   "source": [
    "c  = np.ones((3, 3))\n",
    "b= np.array([1,2,3,])\n",
    "a = np.array([2., 3., 4.,  5., 6., 7.,8.,9.,10])\n",
    "print 'a', a\n",
    "print 'b', b\n",
    "c= b.T\n",
    "print np.shape(c)\n",
    "print c"
   ]
  },
  {
   "cell_type": "code",
   "execution_count": 6,
   "metadata": {
    "collapsed": false
   },
   "outputs": [
    {
     "name": "stdout",
     "output_type": "stream",
     "text": [
      "<type 'numpy.ndarray'> 4\n",
      "2.0\n",
      "210.0\n"
     ]
    }
   ],
   "source": [
    "test = np.array([1., 2., 1., 3.])\n",
    "print type(test), len(test)\n",
    "print test[1]\n",
    "\n",
    "dss  = 30.\n",
    "\n",
    "moo=0.0\n",
    "moo = sum(test*dss)\n",
    "print moo"
   ]
  },
  {
   "cell_type": "code",
   "execution_count": null,
   "metadata": {
    "collapsed": true
   },
   "outputs": [],
   "source": []
  },
  {
   "cell_type": "code",
   "execution_count": 13,
   "metadata": {
    "collapsed": true
   },
   "outputs": [],
   "source": [
    "##### Transforma Array em uma matriz = Redimensionar vetor em matriz"
   ]
  },
  {
   "cell_type": "code",
   "execution_count": 14,
   "metadata": {
    "collapsed": false
   },
   "outputs": [
    {
     "name": "stdout",
     "output_type": "stream",
     "text": [
      "[[  2.   3.   4.]\n",
      " [  5.   6.   7.]\n",
      " [  8.   9.  10.]]\n"
     ]
    }
   ],
   "source": [
    "A = a.reshape(3,3)\n",
    "print A"
   ]
  },
  {
   "cell_type": "code",
   "execution_count": 15,
   "metadata": {
    "collapsed": false
   },
   "outputs": [
    {
     "name": "stdout",
     "output_type": "stream",
     "text": [
      "Produto de uma matriz por vetor [ 20.  38.  56.]\n"
     ]
    }
   ],
   "source": [
    "Ab = np.dot(A,b)\n",
    "print 'Produto de uma matriz por vetor', Ab"
   ]
  },
  {
   "cell_type": "markdown",
   "metadata": {},
   "source": [
    "# SVD"
   ]
  },
  {
   "cell_type": "code",
   "execution_count": 16,
   "metadata": {
    "collapsed": false
   },
   "outputs": [
    {
     "name": "stdout",
     "output_type": "stream",
     "text": [
      "[[ 2.  4.]\n",
      " [ 2.  4.]]\n",
      "u [[-0.70710678 -0.70710678]\n",
      " [-0.70710678  0.70710678]]\n",
      "V [[-0.4472136  -0.89442719]\n",
      " [-0.89442719  0.4472136 ]]\n"
     ]
    }
   ],
   "source": [
    "mat = np.array([2., 4.,  2., 4.])\n",
    "MAT = mat.reshape(2,2)\n",
    "print MAT\n",
    "U, s, V = np.linalg.svd(MAT, full_matrices=True)\n",
    "#print 's',s\n",
    "print 'u', U.reshape(2,2)\n",
    "print 'V', V.reshape(2,2)\n",
    "\n"
   ]
  },
  {
   "cell_type": "code",
   "execution_count": 17,
   "metadata": {
    "collapsed": false
   },
   "outputs": [
    {
     "name": "stdout",
     "output_type": "stream",
     "text": [
      "Autovalores ordenando do menor para maior\n",
      "[ 0.  6.]\n",
      "Autovetores\n",
      "[[-0.89442719 -0.70710678]\n",
      " [ 0.4472136  -0.70710678]]\n",
      "Autovalores em ordem do maior para o menor\n",
      "[ 6.  0.]\n",
      "Autovetores\n",
      "[[-0.70710678 -0.89442719]\n",
      " [-0.70710678  0.4472136 ]]\n"
     ]
    }
   ],
   "source": [
    "# Usando este trecho os autovalores estão em ordem do menor para o maior\n",
    "w, v = np.linalg.eig(MAT)\n",
    "\n",
    "print 'Autovalores ordenando do menor para maior'\n",
    "print w\n",
    "print 'Autovetores'\n",
    "print v\n",
    "\n",
    "# Este trecho os autovalores estão em ordem do maior para o menor\n",
    "\n",
    "eigenValues,eigenVectors = np.linalg.eig(MAT)\n",
    "\n",
    "idx = eigenValues.argsort()[::-1]   \n",
    "eigenValues = eigenValues[idx]\n",
    "eigenVectors = eigenVectors[:,idx]\n",
    "\n",
    "\n",
    "print 'Autovalores em ordem do maior para o menor'\n",
    "print eigenValues\n",
    "print 'Autovetores'\n",
    "print eigenVectors "
   ]
  },
  {
   "cell_type": "code",
   "execution_count": 18,
   "metadata": {
    "collapsed": false
   },
   "outputs": [
    {
     "name": "stdout",
     "output_type": "stream",
     "text": [
      "  (0, 0)\t2.1\n",
      "  (1, 1)\t2.1\n",
      "  (2, 2)\t2.1\n"
     ]
    }
   ],
   "source": [
    "N = 3\n",
    "Lambda = 0.1\n",
    "Valor_diagonal = 2 + Lambda \n",
    "Mat_Diagonal = diags(Valor_diagonal, 0, (N,N), format='csr', dtype='float')\n",
    "print Mat_Diagonal"
   ]
  },
  {
   "cell_type": "code",
   "execution_count": 19,
   "metadata": {
    "collapsed": false
   },
   "outputs": [
    {
     "name": "stdout",
     "output_type": "stream",
     "text": [
      "[ 2.1  4.2  6.3]\n"
     ]
    }
   ],
   "source": [
    "Grad = Mat_Diagonal.dot(b)\n",
    "print Grad"
   ]
  },
  {
   "cell_type": "code",
   "execution_count": 20,
   "metadata": {
    "collapsed": false
   },
   "outputs": [
    {
     "name": "stdout",
     "output_type": "stream",
     "text": [
      "[ 3.1  6.2  9.3]\n"
     ]
    }
   ],
   "source": [
    "d = np.array([10,20,30])\n",
    "Grad = Mat_Diagonal.dot(b) \n",
    "Grad = Grad + np.dot(Lambda,d)\n",
    "print Grad"
   ]
  },
  {
   "cell_type": "code",
   "execution_count": 21,
   "metadata": {
    "collapsed": false
   },
   "outputs": [
    {
     "name": "stdout",
     "output_type": "stream",
     "text": [
      "[ 3.1  6.2  9.3]\n"
     ]
    }
   ],
   "source": [
    "d = np.array([10,20,30])\n",
    "Grad = Mat_Diagonal.dot(b) + np.dot(Lambda,d) \n",
    "print Grad"
   ]
  },
  {
   "cell_type": "code",
   "execution_count": 22,
   "metadata": {
    "collapsed": false
   },
   "outputs": [
    {
     "name": "stdout",
     "output_type": "stream",
     "text": [
      "z_d [   0 -100 -200]\n"
     ]
    }
   ],
   "source": [
    "z= np.array([-100, -200, -300])\n",
    "z_d = z +100\n",
    "print 'z_d', z_d"
   ]
  },
  {
   "cell_type": "code",
   "execution_count": 23,
   "metadata": {
    "collapsed": false
   },
   "outputs": [],
   "source": [
    "def func(xi,xj):\n",
    "    #print 'xi', xi \n",
    "    #print 'xj', xj \n",
    "   #func2=np.empty((3,1),dtype = float)\n",
    "    func2=np.empty((3),dtype = float)\n",
    "    #print func2\n",
    "    for k in range(3):\n",
    "        #print 'K, XI, XJ', k, xi[k], xj\n",
    "        func2[k] = xi[k]*xj\n",
    "        #print 'func2', func2\n",
    "    return func2\n",
    "\n",
    "def func2(xi,xj):\n",
    "    return xi*xj"
   ]
  },
  {
   "cell_type": "code",
   "execution_count": 24,
   "metadata": {
    "collapsed": false
   },
   "outputs": [
    {
     "name": "stdout",
     "output_type": "stream",
     "text": [
      "xi [1 2 3]\n",
      "[[  1.00000000e+01   1.00000000e+02   1.00000000e+03   1.00000000e+04]\n",
      " [  2.00000000e+01   2.00000000e+02   2.00000000e+03   2.00000000e+04]\n",
      " [  3.00000000e+01   3.00000000e+02   3.00000000e+03   3.00000000e+04]]\n",
      "[[  1.00000000e+01   1.00000000e+02   1.00000000e+03   1.00000000e+04]\n",
      " [  2.00000000e+01   2.00000000e+02   2.00000000e+03   2.00000000e+04]\n",
      " [  3.00000000e+01   3.00000000e+02   3.00000000e+03   3.00000000e+04]]\n",
      "j 0\n",
      "j 1\n",
      "j 2\n",
      "j 3\n",
      "[[  1.00000000e+01   1.00000000e+02   1.00000000e+03   1.00000000e+04]\n",
      " [  2.00000000e+01   2.00000000e+02   2.00000000e+03   2.00000000e+04]\n",
      " [  3.00000000e+01   3.00000000e+02   3.00000000e+03   3.00000000e+04]]\n"
     ]
    }
   ],
   "source": [
    "xi=np.empty((3,1),dtype = float)\n",
    "xi = np.array([1,2,3])\n",
    "xj = np.array([10, 100, 1000, 10000])\n",
    "print 'xi', xi \n",
    "A_cheia = np.empty((3,4),dtype =float)\n",
    "A = np.empty((3,4),dtype =float)\n",
    "\n",
    "for j  in range(4):\n",
    "    A [:,j]=func2(xi,xj[j])\n",
    "print A\n",
    "j=0\n",
    "for x  in xj:\n",
    "     A [:,j]=func2(xi,x)\n",
    "     j+=1\n",
    "print A\n",
    "    \n",
    "for j, c in enumerate(xj):\n",
    "    print 'j',j\n",
    "    A_cheia[:,j]= func2(xi,c)\n",
    "print A_cheia"
   ]
  },
  {
   "cell_type": "code",
   "execution_count": 25,
   "metadata": {
    "collapsed": false
   },
   "outputs": [
    {
     "data": {
      "text/plain": [
       "True"
      ]
     },
     "execution_count": 25,
     "metadata": {},
     "output_type": "execute_result"
    }
   ],
   "source": [
    "np.allclose(A_cheia, A)"
   ]
  },
  {
   "cell_type": "code",
   "execution_count": 26,
   "metadata": {
    "collapsed": false
   },
   "outputs": [
    {
     "data": {
      "text/plain": [
       "array([[ True,  True,  True,  True],\n",
       "       [ True,  True,  True,  True],\n",
       "       [ True,  True,  True,  True]], dtype=bool)"
      ]
     },
     "execution_count": 26,
     "metadata": {},
     "output_type": "execute_result"
    }
   ],
   "source": [
    "A_cheia==A"
   ]
  },
  {
   "cell_type": "code",
   "execution_count": null,
   "metadata": {
    "collapsed": true
   },
   "outputs": [],
   "source": []
  }
 ],
 "metadata": {
  "kernelspec": {
   "display_name": "Python 2",
   "language": "python",
   "name": "python2"
  },
  "language_info": {
   "codemirror_mode": {
    "name": "ipython",
    "version": 2
   },
   "file_extension": ".py",
   "mimetype": "text/x-python",
   "name": "python",
   "nbconvert_exporter": "python",
   "pygments_lexer": "ipython2",
   "version": "2.7.13"
  }
 },
 "nbformat": 4,
 "nbformat_minor": 0
}
