{
 "cells": [
  {
   "cell_type": "code",
   "execution_count": 37,
   "metadata": {
    "collapsed": true
   },
   "outputs": [],
   "source": [
    "import numpy as np\n",
    "\n",
    "from datetime import datetime\n",
    "\n",
    "from fatiando.vis import mpl\n",
    "from fatiando import mesher, gridder, utils\n",
    "from fatiando.gravmag import prism, sphere\n",
    "from fatiando.constants import G, SI2MGAL\n",
    "from fatiando.utils import gaussian2d\n",
    "from fatiando.vis import mpl, myv\n",
    "from fatiando.gravmag.eqlayer import EQLGravity\n",
    "from fatiando.inversion.regularization import Damping, LCurve\n"
   ]
  },
  {
   "cell_type": "code",
   "execution_count": 38,
   "metadata": {
    "collapsed": true
   },
   "outputs": [],
   "source": [
    "def A(xi,yi,zi,xk,yk,zk):\n",
    "    raio = 1.0\n",
    "    volume = 1.0 \n",
    "    size = len(xi)\n",
    "    #for i in range(size):\n",
    "    rz = zi-zk\n",
    "    rx = xi-xk\n",
    "    ry = yi-yk\n",
    "    r  = np.sqrt(rx**2+ry**2+rz**2)\n",
    "    r3=r**3\n",
    "    gx = -volume*G*rx/r3\n",
    "    gy = -volume*G*ry/r3\n",
    "    gz = -volume*G*rz/r3\n",
    "    Ax = gx*SI2MGAL\n",
    "    Ay = gy*SI2MGAL\n",
    "    Az = gz*SI2MGAL\n",
    "    return Ax,Ay,Az"
   ]
  },
  {
   "cell_type": "code",
   "execution_count": 39,
   "metadata": {
    "collapsed": true
   },
   "outputs": [],
   "source": [
    "def A_Fillipe(xi,yi,zi,xk,yk,zk):\n",
    "    '''Calcula a componente vertical\n",
    "    da atracao gravitacional exercida\n",
    "    por uma fonte equivalente\n",
    "    \n",
    "    input : (xi,yi,zi) são coordenadas \n",
    "    da medida e (xk,yk,zk) são as \n",
    "    coordenadas das fontes.\n",
    "    \n",
    "    output: matriz de sensibilidade G\n",
    "        \n",
    "    '''    \n",
    "    #C=6.67384*10**(-11)\n",
    "    #print 'SI2MGAL', SI2MGAL\n",
    "    #print 'G', G\n",
    "    raio = 1.0\n",
    "    volume = 1.0 #(4./3.)*np.pi*(raio**3)\n",
    "    N=len(xi)\n",
    "    M=len(xk)\n",
    "    Ax = np.zeros((N,M), dtype='float')\n",
    "    Ay = np.zeros((N,M), dtype='float')\n",
    "    Az = np.zeros((N,M), dtype='float')\n",
    "    #for que anda nas colunas (nas fontes)\n",
    "    for j in range(M):\n",
    "        #for que anda nas linhas (nos dados)\n",
    "        for i in range(N):\n",
    "            rz = zi[i]-zk[j]\n",
    "            rx = xi[i]-xk[j]\n",
    "            ry = yi[i]-yk[j]\n",
    "            r  = np.sqrt(rx**2+ry**2+rz**2)\n",
    "            r3=r**3\n",
    "            gx = -volume*G*rx/r3\n",
    "            gy = -volume*G*ry/r3\n",
    "            gz = -volume*G*rz/r3\n",
    "            Ax[i][j] = gx*SI2MGAL\n",
    "            Ay[i][j] = gy*SI2MGAL\n",
    "            Az[i][j] = gz*SI2MGAL\n",
    "    return Ax, Ay, Az"
   ]
  },
  {
   "cell_type": "code",
   "execution_count": 40,
   "metadata": {
    "collapsed": false
   },
   "outputs": [],
   "source": [
    "start_time_total = datetime.now()\n",
    "\n",
    "N_East  = 100\n",
    "N_North = 100\n",
    "area   = (-5000, 5000, -5000, 5000)\n",
    "shape_obs = (N_North,N_East)\n",
    "\n",
    "z_dado = -150.0\n",
    "\n",
    "xi, yi, zi = gridder.regular(area, shape_obs, z=z_dado)\n"
   ]
  },
  {
   "cell_type": "markdown",
   "metadata": {},
   "source": [
    "# Fontes Equivalentes "
   ]
  },
  {
   "cell_type": "code",
   "execution_count": 41,
   "metadata": {
    "collapsed": false
   },
   "outputs": [
    {
     "name": "stdout",
     "output_type": "stream",
     "text": [
      "[ 200.  200.  200. ...,  200.  200.  200.]\n"
     ]
    }
   ],
   "source": [
    "plano_fonte = 200.\n",
    "zk = np.zeros_like(zi) + plano_fonte\n",
    "print zk"
   ]
  },
  {
   "cell_type": "markdown",
   "metadata": {},
   "source": [
    "## By Valeria: Jeito mais rápido de fazer as Matrizes de Sensibilidade das componentes x, y e z da esfera "
   ]
  },
  {
   "cell_type": "code",
   "execution_count": 42,
   "metadata": {
    "collapsed": false
   },
   "outputs": [
    {
     "name": "stdout",
     "output_type": "stream",
     "text": [
      "10000 10000\n",
      "Duration: 0:00:16.113657\n"
     ]
    }
   ],
   "source": [
    "Npts = len(xi)\n",
    "M    = len(zk)\n",
    "print Npts, M\n",
    "AX = np.empty((Npts,M),dtype =float)\n",
    "AY = np.empty((Npts,M),dtype =float)\n",
    "AZ = np.empty((Npts,M),dtype =float)\n",
    "\n",
    "start_time_matrizes_valeria = datetime.now()\n",
    "\n",
    "for j  in range(M):\n",
    "    AX[:,j], AY[:,j], AZ[:,j] =A(xi,yi,zi,xi[j],yi[j],zk[j])\n",
    "\n",
    "end_time_matrizes_valeria = datetime.now()\n",
    "end_time_matrizes_valeria = datetime.now()\n",
    "print('Duration: {}'.format(end_time_matrizes_valeria - start_time_matrizes_valeria))\n"
   ]
  },
  {
   "cell_type": "markdown",
   "metadata": {},
   "source": [
    "## Calculo da Componente z via Fatiando"
   ]
  },
  {
   "cell_type": "code",
   "execution_count": 43,
   "metadata": {
    "collapsed": false
   },
   "outputs": [],
   "source": [
    "layer = mesher.PointGrid(area, plano_fonte, shape_obs)\n",
    "AZ_Fatiando = np.empty((Npts,M),dtype =float)\n",
    "for i, c in enumerate(layer):\n",
    "    AZ_Fatiando[:,i] = sphere.gz(xi, yi, zi, [c], dens=1.)\n",
    "    "
   ]
  },
  {
   "cell_type": "code",
   "execution_count": 44,
   "metadata": {
    "collapsed": false
   },
   "outputs": [
    {
     "data": {
      "text/plain": [
       "True"
      ]
     },
     "execution_count": 44,
     "metadata": {},
     "output_type": "execute_result"
    }
   ],
   "source": [
    "np.allclose(AZ_Fatiando, AZ)"
   ]
  },
  {
   "cell_type": "markdown",
   "metadata": {},
   "source": [
    "## By Fillipe: Jeito clássico de fazer as Matrizes de Sensibilidade das componentes x, y e z da esfera  (dois ninhos de loops)"
   ]
  },
  {
   "cell_type": "code",
   "execution_count": 45,
   "metadata": {
    "collapsed": false
   },
   "outputs": [
    {
     "name": "stdout",
     "output_type": "stream",
     "text": [
      "Duration: 0:13:09.343097\n"
     ]
    },
    {
     "data": {
      "text/plain": [
       "True"
      ]
     },
     "execution_count": 45,
     "metadata": {},
     "output_type": "execute_result"
    }
   ],
   "source": [
    "start_time_matrizes_fillipe = datetime.now()\n",
    "\n",
    "Gx,Gy,Gz = A_Fillipe(xi,yi,zi,xi,yi,zk)\n",
    "\n",
    "end_time_matrizes_fillipe = datetime.now()\n",
    "print('Duration: {}'.format(end_time_matrizes_fillipe - start_time_matrizes_fillipe))   \n",
    "\n",
    "np.allclose(AZ_Fatiando, Gz)"
   ]
  },
  {
   "cell_type": "markdown",
   "metadata": {},
   "source": [
    "## Compara as matrizes "
   ]
  },
  {
   "cell_type": "code",
   "execution_count": 46,
   "metadata": {
    "collapsed": false
   },
   "outputs": [
    {
     "data": {
      "text/plain": [
       "True"
      ]
     },
     "execution_count": 46,
     "metadata": {},
     "output_type": "execute_result"
    }
   ],
   "source": [
    "np.allclose(AX, Gx)"
   ]
  },
  {
   "cell_type": "code",
   "execution_count": 47,
   "metadata": {
    "collapsed": false
   },
   "outputs": [
    {
     "data": {
      "text/plain": [
       "True"
      ]
     },
     "execution_count": 47,
     "metadata": {},
     "output_type": "execute_result"
    }
   ],
   "source": [
    "np.allclose(AY, Gy)\n"
   ]
  },
  {
   "cell_type": "code",
   "execution_count": 48,
   "metadata": {
    "collapsed": false
   },
   "outputs": [
    {
     "data": {
      "text/plain": [
       "True"
      ]
     },
     "execution_count": 48,
     "metadata": {},
     "output_type": "execute_result"
    }
   ],
   "source": [
    "np.allclose(AZ, Gz)"
   ]
  }
 ],
 "metadata": {
  "kernelspec": {
   "display_name": "Python [default]",
   "language": "python",
   "name": "python2"
  },
  "language_info": {
   "codemirror_mode": {
    "name": "ipython",
    "version": 2
   },
   "file_extension": ".py",
   "mimetype": "text/x-python",
   "name": "python",
   "nbconvert_exporter": "python",
   "pygments_lexer": "ipython2",
   "version": "2.7.12"
  }
 },
 "nbformat": 4,
 "nbformat_minor": 0
}
